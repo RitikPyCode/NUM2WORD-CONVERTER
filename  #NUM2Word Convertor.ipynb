{
 "cells": [
  {
   "cell_type": "markdown",
   "metadata": {},
   "source": [
    "# Num2Word_Calculator By-: Ritik kumar Tiwari"
   ]
  },
  {
   "cell_type": "code",
   "execution_count": 15,
   "metadata": {},
   "outputs": [],
   "source": [
    "import tkinter as tk\n",
    "import num2words as n2w\n",
    "from functools import partial\n"
   ]
  },
  {
   "cell_type": "code",
   "execution_count": 16,
   "metadata": {},
   "outputs": [],
   "source": [
    "def call_result(label_result, n1):\n",
    "    num1=(n1.get())\n",
    "    result=n2w.num2words(int(num1), lang=\"en_IN\")\n",
    "    label_result.config(text=\"**RESULT IS** : {}\". format(result))\n",
    "    #label_reset.config(text=\"reset:{}\".formate(reset))\n",
    "    return"
   ]
  },
  {
   "cell_type": "code",
   "execution_count": 17,
   "metadata": {},
   "outputs": [],
   "source": [
    "root=tk.Tk()\n",
    "root.geometry('600x300')\n",
    "root.configure(bg=\"skyblue\")\n",
    "#***********************************************************************************************\n",
    "root.title('**Num2word convertor** ')\n",
    "#***********************************************************************************************\n",
    "number1=tk.StringVar()\n",
    "#***********************************************************************************************\n",
    "labelTitle=tk.Label(root, text=\"NUMBERS TO WORDS CONVERTER\", font=\"arial 15 bold italic\", bg=\"lightpink\").grid(row=0, column=2)\n",
    "#***********************************************************************************************\n",
    "labelNum1=tk.Label(root, text=\"Enter a number\", font=\"arial 10 bold\", bg=\"lightgray\").grid(row=1, column=0)\n",
    "#***********************************************************************************************\n",
    "labelResult=tk.Label(root)\n",
    "#***********************************************************************************************\n",
    "labelResult.grid(row=7, column=2)\n",
    "#***********************************************************************************************\n",
    "entryNum1=tk.Entry(root, textvariable=number1).grid(row=1, column=2)\n",
    "#***********************************************************************************************\n",
    "call_result=partial(call_result, labelResult, number1)\n",
    "#***********************************************************************************************\n",
    "buttoncol=tk.Button(root, text=\"Calculate\", command=call_result).grid(row=1, column=3)\n",
    "#**********************************************************************************************\n",
    " \n",
    "root.mainloop()\n",
    "\n",
    "\n"
   ]
  },
  {
   "cell_type": "code",
   "execution_count": null,
   "metadata": {},
   "outputs": [],
   "source": []
  },
  {
   "cell_type": "code",
   "execution_count": null,
   "metadata": {},
   "outputs": [],
   "source": []
  }
 ],
 "metadata": {
  "kernelspec": {
   "display_name": "Python 3",
   "language": "python",
   "name": "python3"
  },
  "language_info": {
   "codemirror_mode": {
    "name": "ipython",
    "version": 3
   },
   "file_extension": ".py",
   "mimetype": "text/x-python",
   "name": "python",
   "nbconvert_exporter": "python",
   "pygments_lexer": "ipython3",
   "version": "3.7.6"
  }
 },
 "nbformat": 4,
 "nbformat_minor": 4
}
